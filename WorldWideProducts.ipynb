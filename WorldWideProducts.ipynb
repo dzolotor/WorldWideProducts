{
 "cells": [
  {
   "cell_type": "markdown",
   "metadata": {},
   "source": [
    "In this notebook, we try to forecast demand for a particular item using other columns like warehouse and category\n",
    "<br>\n",
    "<br>\n",
    "First we import our packages including two classifiers we will apply on the data set"
   ]
  },
  {
   "cell_type": "code",
   "execution_count": 1,
   "metadata": {},
   "outputs": [],
   "source": [
    "import numpy as np\n",
    "import pandas as pd\n",
    "\n",
    "import matplotlib.pyplot as plt\n",
    "import seaborn as sns\n",
    "from datetime import date\n",
    "\n",
    "from sklearn.linear_model import LinearRegression\n",
    "from sklearn.metrics import r2_score\n",
    "from sklearn.ensemble import GradientBoostingRegressor\n",
    "\n",
    "from sklearn import preprocessing\n"
   ]
  },
  {
   "cell_type": "markdown",
   "metadata": {},
   "source": [
    "Now we read in our data"
   ]
  },
  {
   "cell_type": "code",
   "execution_count": 2,
   "metadata": {},
   "outputs": [
    {
     "data": {
      "text/html": [
       "<div>\n",
       "<style scoped>\n",
       "    .dataframe tbody tr th:only-of-type {\n",
       "        vertical-align: middle;\n",
       "    }\n",
       "\n",
       "    .dataframe tbody tr th {\n",
       "        vertical-align: top;\n",
       "    }\n",
       "\n",
       "    .dataframe thead th {\n",
       "        text-align: right;\n",
       "    }\n",
       "</style>\n",
       "<table border=\"1\" class=\"dataframe\">\n",
       "  <thead>\n",
       "    <tr style=\"text-align: right;\">\n",
       "      <th></th>\n",
       "      <th>Product_Code</th>\n",
       "      <th>Warehouse</th>\n",
       "      <th>Product_Category</th>\n",
       "      <th>Order_Demand</th>\n",
       "    </tr>\n",
       "    <tr>\n",
       "      <th>Date</th>\n",
       "      <th></th>\n",
       "      <th></th>\n",
       "      <th></th>\n",
       "      <th></th>\n",
       "    </tr>\n",
       "  </thead>\n",
       "  <tbody>\n",
       "    <tr>\n",
       "      <th>2012-07-27</th>\n",
       "      <td>Product_0993</td>\n",
       "      <td>Whse_J</td>\n",
       "      <td>Category_028</td>\n",
       "      <td>100</td>\n",
       "    </tr>\n",
       "    <tr>\n",
       "      <th>2012-01-19</th>\n",
       "      <td>Product_0979</td>\n",
       "      <td>Whse_J</td>\n",
       "      <td>Category_028</td>\n",
       "      <td>500</td>\n",
       "    </tr>\n",
       "    <tr>\n",
       "      <th>2012-02-03</th>\n",
       "      <td>Product_0979</td>\n",
       "      <td>Whse_J</td>\n",
       "      <td>Category_028</td>\n",
       "      <td>500</td>\n",
       "    </tr>\n",
       "    <tr>\n",
       "      <th>2012-02-09</th>\n",
       "      <td>Product_0979</td>\n",
       "      <td>Whse_J</td>\n",
       "      <td>Category_028</td>\n",
       "      <td>500</td>\n",
       "    </tr>\n",
       "    <tr>\n",
       "      <th>2012-03-02</th>\n",
       "      <td>Product_0979</td>\n",
       "      <td>Whse_J</td>\n",
       "      <td>Category_028</td>\n",
       "      <td>500</td>\n",
       "    </tr>\n",
       "  </tbody>\n",
       "</table>\n",
       "</div>"
      ],
      "text/plain": [
       "            Product_Code Warehouse Product_Category Order_Demand\n",
       "Date                                                            \n",
       "2012-07-27  Product_0993    Whse_J     Category_028         100 \n",
       "2012-01-19  Product_0979    Whse_J     Category_028         500 \n",
       "2012-02-03  Product_0979    Whse_J     Category_028         500 \n",
       "2012-02-09  Product_0979    Whse_J     Category_028         500 \n",
       "2012-03-02  Product_0979    Whse_J     Category_028         500 "
      ]
     },
     "execution_count": 2,
     "metadata": {},
     "output_type": "execute_result"
    }
   ],
   "source": [
    "dfProducts = pd.read_csv('./Data/HistoricalProductDemand.csv', index_col='Date', parse_dates=[3])\n",
    "dfProducts = dfProducts.dropna()\n",
    "dfProducts.head()"
   ]
  },
  {
   "cell_type": "markdown",
   "metadata": {},
   "source": [
    "Now sort it by date"
   ]
  },
  {
   "cell_type": "code",
   "execution_count": 3,
   "metadata": {},
   "outputs": [
    {
     "data": {
      "text/html": [
       "<div>\n",
       "<style scoped>\n",
       "    .dataframe tbody tr th:only-of-type {\n",
       "        vertical-align: middle;\n",
       "    }\n",
       "\n",
       "    .dataframe tbody tr th {\n",
       "        vertical-align: top;\n",
       "    }\n",
       "\n",
       "    .dataframe thead th {\n",
       "        text-align: right;\n",
       "    }\n",
       "</style>\n",
       "<table border=\"1\" class=\"dataframe\">\n",
       "  <thead>\n",
       "    <tr style=\"text-align: right;\">\n",
       "      <th></th>\n",
       "      <th>Date</th>\n",
       "      <th>Product_Code</th>\n",
       "      <th>Warehouse</th>\n",
       "      <th>Product_Category</th>\n",
       "      <th>Order_Demand</th>\n",
       "    </tr>\n",
       "  </thead>\n",
       "  <tbody>\n",
       "    <tr>\n",
       "      <th>0</th>\n",
       "      <td>2011-01-08</td>\n",
       "      <td>Product_0965</td>\n",
       "      <td>Whse_A</td>\n",
       "      <td>Category_006</td>\n",
       "      <td>2</td>\n",
       "    </tr>\n",
       "    <tr>\n",
       "      <th>1</th>\n",
       "      <td>2011-05-31</td>\n",
       "      <td>Product_1724</td>\n",
       "      <td>Whse_A</td>\n",
       "      <td>Category_003</td>\n",
       "      <td>108</td>\n",
       "    </tr>\n",
       "    <tr>\n",
       "      <th>2</th>\n",
       "      <td>2011-06-24</td>\n",
       "      <td>Product_1521</td>\n",
       "      <td>Whse_S</td>\n",
       "      <td>Category_019</td>\n",
       "      <td>85000</td>\n",
       "    </tr>\n",
       "    <tr>\n",
       "      <th>3</th>\n",
       "      <td>2011-06-24</td>\n",
       "      <td>Product_1521</td>\n",
       "      <td>Whse_S</td>\n",
       "      <td>Category_019</td>\n",
       "      <td>7000</td>\n",
       "    </tr>\n",
       "    <tr>\n",
       "      <th>4</th>\n",
       "      <td>2011-09-02</td>\n",
       "      <td>Product_1507</td>\n",
       "      <td>Whse_C</td>\n",
       "      <td>Category_019</td>\n",
       "      <td>1250</td>\n",
       "    </tr>\n",
       "  </tbody>\n",
       "</table>\n",
       "</div>"
      ],
      "text/plain": [
       "        Date  Product_Code Warehouse Product_Category Order_Demand\n",
       "0 2011-01-08  Product_0965    Whse_A     Category_006           2 \n",
       "1 2011-05-31  Product_1724    Whse_A     Category_003         108 \n",
       "2 2011-06-24  Product_1521    Whse_S     Category_019       85000 \n",
       "3 2011-06-24  Product_1521    Whse_S     Category_019        7000 \n",
       "4 2011-09-02  Product_1507    Whse_C     Category_019        1250 "
      ]
     },
     "execution_count": 3,
     "metadata": {},
     "output_type": "execute_result"
    }
   ],
   "source": [
    "dfProducts = dfProducts.sort_values(by=['Date']).reset_index()\n",
    "dfProducts.head()"
   ]
  },
  {
   "cell_type": "markdown",
   "metadata": {},
   "source": [
    "We clean the data by removing the prefixes in the data to make it usable"
   ]
  },
  {
   "cell_type": "code",
   "execution_count": 4,
   "metadata": {},
   "outputs": [
    {
     "data": {
      "text/html": [
       "<div>\n",
       "<style scoped>\n",
       "    .dataframe tbody tr th:only-of-type {\n",
       "        vertical-align: middle;\n",
       "    }\n",
       "\n",
       "    .dataframe tbody tr th {\n",
       "        vertical-align: top;\n",
       "    }\n",
       "\n",
       "    .dataframe thead th {\n",
       "        text-align: right;\n",
       "    }\n",
       "</style>\n",
       "<table border=\"1\" class=\"dataframe\">\n",
       "  <thead>\n",
       "    <tr style=\"text-align: right;\">\n",
       "      <th></th>\n",
       "      <th>Date</th>\n",
       "      <th>Product_Code</th>\n",
       "      <th>Warehouse</th>\n",
       "      <th>Product_Category</th>\n",
       "      <th>Order_Demand</th>\n",
       "    </tr>\n",
       "  </thead>\n",
       "  <tbody>\n",
       "    <tr>\n",
       "      <th>0</th>\n",
       "      <td>2011-01-08</td>\n",
       "      <td>965</td>\n",
       "      <td>Whse_A</td>\n",
       "      <td>6</td>\n",
       "      <td>2</td>\n",
       "    </tr>\n",
       "    <tr>\n",
       "      <th>1</th>\n",
       "      <td>2011-05-31</td>\n",
       "      <td>1724</td>\n",
       "      <td>Whse_A</td>\n",
       "      <td>3</td>\n",
       "      <td>108</td>\n",
       "    </tr>\n",
       "    <tr>\n",
       "      <th>2</th>\n",
       "      <td>2011-06-24</td>\n",
       "      <td>1521</td>\n",
       "      <td>Whse_S</td>\n",
       "      <td>19</td>\n",
       "      <td>85000</td>\n",
       "    </tr>\n",
       "    <tr>\n",
       "      <th>3</th>\n",
       "      <td>2011-06-24</td>\n",
       "      <td>1521</td>\n",
       "      <td>Whse_S</td>\n",
       "      <td>19</td>\n",
       "      <td>7000</td>\n",
       "    </tr>\n",
       "    <tr>\n",
       "      <th>4</th>\n",
       "      <td>2011-09-02</td>\n",
       "      <td>1507</td>\n",
       "      <td>Whse_C</td>\n",
       "      <td>19</td>\n",
       "      <td>1250</td>\n",
       "    </tr>\n",
       "  </tbody>\n",
       "</table>\n",
       "</div>"
      ],
      "text/plain": [
       "        Date  Product_Code Warehouse  Product_Category Order_Demand\n",
       "0 2011-01-08           965    Whse_A                 6           2 \n",
       "1 2011-05-31          1724    Whse_A                 3         108 \n",
       "2 2011-06-24          1521    Whse_S                19       85000 \n",
       "3 2011-06-24          1521    Whse_S                19        7000 \n",
       "4 2011-09-02          1507    Whse_C                19        1250 "
      ]
     },
     "execution_count": 4,
     "metadata": {},
     "output_type": "execute_result"
    }
   ],
   "source": [
    "#remove 'Product_' from Product_Code by splicing and cast to int\n",
    "dfProducts['Product_Code'] = dfProducts['Product_Code'].str[8:].astype(int)\n",
    "\n",
    "#remove 'Category_' from Product_Category\n",
    "dfProducts['Product_Category'] = dfProducts['Product_Category'].str[9:].astype(int)\n",
    "\n",
    "dfProducts.head()"
   ]
  },
  {
   "cell_type": "markdown",
   "metadata": {},
   "source": [
    "Currently, negative demand is denoted with parenthesis. To make this usable, we will convert to integer"
   ]
  },
  {
   "cell_type": "code",
   "execution_count": 5,
   "metadata": {},
   "outputs": [],
   "source": [
    "#replace parenthesis with negative sign so not object\n",
    "dfProducts['Order_Demand'].replace('[(]', '-', inplace=True, regex=True)\n",
    "dfProducts['Order_Demand'].replace('[)]', '', inplace=True, regex=True)\n",
    "dfProducts['Order_Demand'] = dfProducts['Order_Demand'].astype(int)"
   ]
  },
  {
   "cell_type": "markdown",
   "metadata": {},
   "source": [
    "We'd like to focus on a single product to forecast its demand"
   ]
  },
  {
   "cell_type": "code",
   "execution_count": 6,
   "metadata": {},
   "outputs": [
    {
     "name": "stdout",
     "output_type": "stream",
     "text": [
      "<class 'pandas.core.frame.DataFrame'>\n",
      "Int64Index: 3928 entries, 795 to 1048104\n",
      "Data columns (total 5 columns):\n",
      "Date                3889 non-null datetime64[ns]\n",
      "Product_Code        3928 non-null int32\n",
      "Warehouse           3928 non-null object\n",
      "Product_Category    3928 non-null int32\n",
      "Order_Demand        3928 non-null int32\n",
      "dtypes: datetime64[ns](1), int32(3), object(1)\n",
      "memory usage: 138.1+ KB\n"
     ]
    },
    {
     "data": {
      "text/html": [
       "<div>\n",
       "<style scoped>\n",
       "    .dataframe tbody tr th:only-of-type {\n",
       "        vertical-align: middle;\n",
       "    }\n",
       "\n",
       "    .dataframe tbody tr th {\n",
       "        vertical-align: top;\n",
       "    }\n",
       "\n",
       "    .dataframe thead th {\n",
       "        text-align: right;\n",
       "    }\n",
       "</style>\n",
       "<table border=\"1\" class=\"dataframe\">\n",
       "  <thead>\n",
       "    <tr style=\"text-align: right;\">\n",
       "      <th></th>\n",
       "      <th>Date</th>\n",
       "      <th>Product_Code</th>\n",
       "      <th>Warehouse</th>\n",
       "      <th>Product_Category</th>\n",
       "      <th>Order_Demand</th>\n",
       "    </tr>\n",
       "  </thead>\n",
       "  <tbody>\n",
       "    <tr>\n",
       "      <th>795</th>\n",
       "      <td>2012-01-03</td>\n",
       "      <td>979</td>\n",
       "      <td>Whse_A</td>\n",
       "      <td>28</td>\n",
       "      <td>2000</td>\n",
       "    </tr>\n",
       "    <tr>\n",
       "      <th>1236</th>\n",
       "      <td>2012-01-05</td>\n",
       "      <td>979</td>\n",
       "      <td>Whse_J</td>\n",
       "      <td>28</td>\n",
       "      <td>100</td>\n",
       "    </tr>\n",
       "    <tr>\n",
       "      <th>1306</th>\n",
       "      <td>2012-01-05</td>\n",
       "      <td>979</td>\n",
       "      <td>Whse_J</td>\n",
       "      <td>28</td>\n",
       "      <td>600</td>\n",
       "    </tr>\n",
       "    <tr>\n",
       "      <th>1439</th>\n",
       "      <td>2012-01-05</td>\n",
       "      <td>979</td>\n",
       "      <td>Whse_J</td>\n",
       "      <td>28</td>\n",
       "      <td>500</td>\n",
       "    </tr>\n",
       "    <tr>\n",
       "      <th>1652</th>\n",
       "      <td>2012-01-05</td>\n",
       "      <td>979</td>\n",
       "      <td>Whse_A</td>\n",
       "      <td>28</td>\n",
       "      <td>500</td>\n",
       "    </tr>\n",
       "  </tbody>\n",
       "</table>\n",
       "</div>"
      ],
      "text/plain": [
       "           Date  Product_Code Warehouse  Product_Category  Order_Demand\n",
       "795  2012-01-03           979    Whse_A                28          2000\n",
       "1236 2012-01-05           979    Whse_J                28           100\n",
       "1306 2012-01-05           979    Whse_J                28           600\n",
       "1439 2012-01-05           979    Whse_J                28           500\n",
       "1652 2012-01-05           979    Whse_A                28           500"
      ]
     },
     "execution_count": 6,
     "metadata": {},
     "output_type": "execute_result"
    }
   ],
   "source": [
    "#drop all rows except product 979\n",
    "dfProducts = dfProducts[dfProducts.Product_Code == 979]\n",
    "\n",
    "dfProducts.info()\n",
    "dfProducts.head()"
   ]
  },
  {
   "cell_type": "markdown",
   "metadata": {},
   "source": [
    "Let's take a look at the demand for product 979 over time"
   ]
  },
  {
   "cell_type": "code",
   "execution_count": 7,
   "metadata": {},
   "outputs": [
    {
     "data": {
      "image/png": "[encoded data removed]",
      "text/plain": [
       "<Figure size 1800x432 with 1 Axes>"
      ]
     },
     "metadata": {
      "needs_background": "light"
     },
     "output_type": "display_data"
    }
   ],
   "source": [
    "plt.figure(figsize = (25,6))\n",
    "plt.plot(dfProducts.index, dfProducts['Order_Demand']);"
   ]
  },
  {
   "cell_type": "markdown",
   "metadata": {},
   "source": [
    "We see clear negative outliers. We should exclude these."
   ]
  },
  {
   "cell_type": "code",
   "execution_count": 8,
   "metadata": {},
   "outputs": [
    {
     "data": {
      "image/png": "[encoded data removed]",
      "text/plain": [
       "<Figure size 1800x432 with 1 Axes>"
      ]
     },
     "metadata": {
      "needs_background": "light"
     },
     "output_type": "display_data"
    }
   ],
   "source": [
    "dfProducts = dfProducts[dfProducts.Order_Demand >= 0]\n",
    "plt.figure(figsize = (25,6))\n",
    "plt.plot(dfProducts.index, dfProducts['Order_Demand']);"
   ]
  },
  {
   "cell_type": "markdown",
   "metadata": {},
   "source": [
    "Now label encoding has to be done to make the data usable by the models"
   ]
  },
  {
   "cell_type": "code",
   "execution_count": 9,
   "metadata": {},
   "outputs": [
    {
     "data": {
      "text/html": [
       "<div>\n",
       "<style scoped>\n",
       "    .dataframe tbody tr th:only-of-type {\n",
       "        vertical-align: middle;\n",
       "    }\n",
       "\n",
       "    .dataframe tbody tr th {\n",
       "        vertical-align: top;\n",
       "    }\n",
       "\n",
       "    .dataframe thead th {\n",
       "        text-align: right;\n",
       "    }\n",
       "</style>\n",
       "<table border=\"1\" class=\"dataframe\">\n",
       "  <thead>\n",
       "    <tr style=\"text-align: right;\">\n",
       "      <th></th>\n",
       "      <th>Date</th>\n",
       "      <th>Product_Code</th>\n",
       "      <th>Warehouse</th>\n",
       "      <th>Product_Category</th>\n",
       "      <th>Order_Demand</th>\n",
       "    </tr>\n",
       "  </thead>\n",
       "  <tbody>\n",
       "    <tr>\n",
       "      <th>795</th>\n",
       "      <td>2012-01-03</td>\n",
       "      <td>979</td>\n",
       "      <td>0</td>\n",
       "      <td>28</td>\n",
       "      <td>2000</td>\n",
       "    </tr>\n",
       "    <tr>\n",
       "      <th>1236</th>\n",
       "      <td>2012-01-05</td>\n",
       "      <td>979</td>\n",
       "      <td>1</td>\n",
       "      <td>28</td>\n",
       "      <td>100</td>\n",
       "    </tr>\n",
       "    <tr>\n",
       "      <th>1306</th>\n",
       "      <td>2012-01-05</td>\n",
       "      <td>979</td>\n",
       "      <td>1</td>\n",
       "      <td>28</td>\n",
       "      <td>600</td>\n",
       "    </tr>\n",
       "    <tr>\n",
       "      <th>1439</th>\n",
       "      <td>2012-01-05</td>\n",
       "      <td>979</td>\n",
       "      <td>1</td>\n",
       "      <td>28</td>\n",
       "      <td>500</td>\n",
       "    </tr>\n",
       "    <tr>\n",
       "      <th>1652</th>\n",
       "      <td>2012-01-05</td>\n",
       "      <td>979</td>\n",
       "      <td>0</td>\n",
       "      <td>28</td>\n",
       "      <td>500</td>\n",
       "    </tr>\n",
       "  </tbody>\n",
       "</table>\n",
       "</div>"
      ],
      "text/plain": [
       "           Date  Product_Code  Warehouse  Product_Category  Order_Demand\n",
       "795  2012-01-03           979          0                28          2000\n",
       "1236 2012-01-05           979          1                28           100\n",
       "1306 2012-01-05           979          1                28           600\n",
       "1439 2012-01-05           979          1                28           500\n",
       "1652 2012-01-05           979          0                28           500"
      ]
     },
     "execution_count": 9,
     "metadata": {},
     "output_type": "execute_result"
    }
   ],
   "source": [
    "#label encode\n",
    "labelEncoder = preprocessing.LabelEncoder()\n",
    "#overwrite Warehouse with its label encoding\n",
    "dfProducts['Warehouse'] = labelEncoder.fit_transform(dfProducts['Warehouse'])\n",
    "dfProducts.head()"
   ]
  },
  {
   "cell_type": "markdown",
   "metadata": {},
   "source": [
    "Now we will try to predict player using the other columns"
   ]
  },
  {
   "cell_type": "code",
   "execution_count": 10,
   "metadata": {},
   "outputs": [],
   "source": [
    "indepVars = dfProducts[['Product_Code', 'Warehouse', 'Product_Category']]\n",
    "depVars = dfProducts['Order_Demand']"
   ]
  },
  {
   "cell_type": "code",
   "execution_count": 11,
   "metadata": {},
   "outputs": [],
   "source": [
    "from sklearn.model_selection import train_test_split\n",
    "# split into training set and test set\n",
    "# train on 70 percent of the data and test on 30\n",
    "X_train, X_test, Y_train, Y_test = train_test_split(indepVars, depVars, test_size=0.3, random_state=1)"
   ]
  },
  {
   "cell_type": "markdown",
   "metadata": {},
   "source": [
    "First we will try to use Gradient Boosting"
   ]
  },
  {
   "cell_type": "code",
   "execution_count": 12,
   "metadata": {},
   "outputs": [
    {
     "name": "stdout",
     "output_type": "stream",
     "text": [
      "0.020298749673775873\n",
      "0.024045443985767467\n"
     ]
    }
   ],
   "source": [
    "regressor = GradientBoostingRegressor()\n",
    "regressor = regressor.fit(X_train, Y_train)\n",
    "trainGradientBoosting = r2_score(Y_train, regressor.predict(X_train), multioutput='variance_weighted')\n",
    "predictionGradientBoosting = r2_score(Y_test, regressor.predict(X_test), multioutput='variance_weighted')\n",
    "\n",
    "print(trainGradientBoosting)\n",
    "print(predictionGradientBoosting)"
   ]
  },
  {
   "cell_type": "markdown",
   "metadata": {},
   "source": [
    "The results aren't great but they are somewhat respectable<br><br>\n",
    "Lets try linear regression and compare"
   ]
  },
  {
   "cell_type": "code",
   "execution_count": 13,
   "metadata": {},
   "outputs": [
    {
     "name": "stdout",
     "output_type": "stream",
     "text": [
      "0.004584831725828575\n",
      "0.009076012010520884\n"
     ]
    }
   ],
   "source": [
    "regressor = LinearRegression()\n",
    "regressor = regressor.fit(X_train, Y_train)\n",
    "trainLinear = r2_score(Y_train, regressor.predict(X_train), multioutput='variance_weighted')\n",
    "predictionLinear = r2_score(Y_test, regressor.predict(X_test), multioutput='variance_weighted')\n",
    "\n",
    "print(trainLinear)\n",
    "print(predictionLinear)"
   ]
  },
  {
   "cell_type": "markdown",
   "metadata": {},
   "source": [
    "Because linear regression assumes that the columns are indepent, the performance here is extremely poor"
   ]
  }
 ],
 "metadata": {
  "kernelspec": {
   "display_name": "Python 3",
   "language": "python",
   "name": "python3"
  },
  "language_info": {
   "codemirror_mode": {
    "name": "ipython",
    "version": 3
   },
   "file_extension": ".py",
   "mimetype": "text/x-python",
   "name": "python",
   "nbconvert_exporter": "python",
   "pygments_lexer": "ipython3",
   "version": "3.7.3"
  }
 },
 "nbformat": 4,
 "nbformat_minor": 2
}
